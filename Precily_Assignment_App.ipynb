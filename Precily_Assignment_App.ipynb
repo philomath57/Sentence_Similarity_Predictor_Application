{
 "cells": [
  {
   "cell_type": "code",
   "execution_count": 6,
   "id": "febcb824",
   "metadata": {},
   "outputs": [],
   "source": [
    "import streamlit as st\n",
    "import pickle\n",
    "from sentence_transformers import SentenceTransformer, util"
   ]
  },
  {
   "cell_type": "code",
   "execution_count": 7,
   "id": "aa5063d5",
   "metadata": {},
   "outputs": [],
   "source": [
    "pickled_model_similarity = pickle.load(open(\"model_similarity.pkl\",\"rb\"))"
   ]
  },
  {
   "cell_type": "code",
   "execution_count": 8,
   "id": "fff808fd",
   "metadata": {},
   "outputs": [],
   "source": [
    "def calculate_similarity(input_data_1,input_data_2):\n",
    "    similarity_1 = pickled_model_similarity.encode(input_data_1)\n",
    "    similarity_2 = pickled_model_similarity.encode(input_data_2)\n",
    "    similarity_value = util.cos_sim(similarity_1,similarity_2)\n",
    "    return similarity_value"
   ]
  },
  {
   "cell_type": "code",
   "execution_count": 9,
   "id": "3095018a",
   "metadata": {},
   "outputs": [],
   "source": [
    "def main():\n",
    "    st.title('Sentence Similarity Calculator')\n",
    "\n",
    "    sentence1 = st.text_input('Enter Sentence 1')\n",
    "    sentence2 = st.text_input('Enter Sentence 2')\n",
    "\n",
    "    if st.button('Calculate Similarity'):\n",
    "        similarity_score = calculate_similarity(sentence1, sentence2)\n",
    "\n",
    "        st.write('Sentence 1:', sentence1)\n",
    "        st.write('Sentence 2:', sentence2)\n",
    "        st.write('Similarity Score:', similarity_score.item())"
   ]
  },
  {
   "cell_type": "code",
   "execution_count": 10,
   "id": "a52c0979",
   "metadata": {},
   "outputs": [],
   "source": [
    "if __name__ == '__main__':\n",
    "    main()"
   ]
  },
  {
   "cell_type": "code",
   "execution_count": null,
   "id": "f3da7b18",
   "metadata": {},
   "outputs": [],
   "source": []
  }
 ],
 "metadata": {
  "kernelspec": {
   "display_name": "Python 3 (ipykernel)",
   "language": "python",
   "name": "python3"
  },
  "language_info": {
   "codemirror_mode": {
    "name": "ipython",
    "version": 3
   },
   "file_extension": ".py",
   "mimetype": "text/x-python",
   "name": "python",
   "nbconvert_exporter": "python",
   "pygments_lexer": "ipython3",
   "version": "3.9.7"
  }
 },
 "nbformat": 4,
 "nbformat_minor": 5
}
